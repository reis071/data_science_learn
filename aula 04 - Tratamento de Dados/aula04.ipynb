{
 "cells": [
  {
   "cell_type": "markdown",
   "metadata": {},
   "source": [
    "# Tratamento de Dados"
   ]
  },
  {
   "cell_type": "markdown",
   "metadata": {},
   "source": [
    "## O que é?"
   ]
  },
  {
   "cell_type": "markdown",
   "metadata": {},
   "source": [
    "O tratamento de dados, também conhecido como pré-processamento de dados, é uma etapa essencial na área de Data Science, onde os dados brutos são preparados para análise. Vamos pensar em um exemplo simples para ilustrar isso:\n",
    "\n",
    "Imagine que você está organizando uma festa e precisa criar uma lista com o nome dos convidados, o que eles vão trazer, e se eles confirmaram presença. No entanto, quando você começa a coletar essas informações, percebe que algumas delas estão incompletas ou desorganizadas. Alguns convidados escreveram seus nomes de forma errada, outros não disseram o que vão trazer, e alguns nem responderam se vão à festa.\n",
    "\n",
    "Antes de usar essa lista para saber o que ainda precisa comprar, você precisará \"tratar\" esses dados. Isso envolve:\n",
    "\n",
    "**Limpeza dos dados**: Corrigir erros nos nomes, remover informações duplicadas, e preencher ou remover dados ausentes. Por exemplo, se alguém escreveu \"An\" em vez de \"Ana\", você corrige para \"Ana\". Se um convidado não disse o que vai trazer, você pode tentar adivinhar com base no que ele trouxe em outras festas ou simplesmente perguntar de novo.\n",
    "\n",
    "**Transformação dos dados**: Colocar as informações em um formato mais útil para análise. Por exemplo, você pode decidir que todos os nomes devem estar em letras maiúsculas para evitar duplicação de entradas como \"Ana\" e \"ana\".\n",
    "\n",
    "**Integração dos dados**: Se você tiver informações sobre os convidados de várias fontes (como diferentes listas de festas anteriores), você pode combinar essas listas em uma única para ter uma visão completa.\n",
    "\n",
    "**Normalização e padronização**: Ajustar os dados para que todos sigam o mesmo padrão. Por exemplo, se as pessoas escreveram \"Sim\" ou \"sim\" para confirmar a presença, você pode padronizar para que todos usem \"Sim\".\n",
    "\n",
    "Depois de realizar esses passos, sua lista de convidados estará limpa, organizada e pronta para ser usada de forma eficaz. Da mesma maneira, na Data Science, o tratamento de dados prepara o conjunto de dados para que ele possa ser analisado com precisão, permitindo a criação de modelos que gerem insights valiosos.\n",
    "\n",
    "Em resumo, o tratamento de dados é como arrumar e organizar sua casa antes de uma festa: é trabalhoso, mas necessário para garantir que tudo corra bem. Sem ele, seria difícil fazer uma análise confiável e tomar decisões baseadas nos dados."
   ]
  },
  {
   "cell_type": "markdown",
   "metadata": {},
   "source": [
    "## Motivos para Tratar"
   ]
  },
  {
   "cell_type": "markdown",
   "metadata": {},
   "source": [
    "**Precisão**: Dados que não são tratados podem conter erros, como valores fora de um intervalo esperado, informações duplicadas, ou até mesmo dados ausentes. Se você não tratar esses dados, as análises podem levar a conclusões erradas. É como usar um ingrediente estragado que estraga o sabor do prato.\n",
    "\n",
    "**Consistência**: Dados desorganizados ou com formatos diferentes dificultam a análise. Imagine tentar somar o preço de produtos onde alguns estão em dólares, outros em reais, e outros com a vírgula no lugar errado. Tratar os dados garante que todos sigam um padrão consistente, assim como um chef que mede cada ingrediente corretamente.\n",
    "\n",
    "**Eficiência**: Dados limpos e organizados permitem que os algoritmos e modelos funcionem melhor e mais rápido. Se os dados estiverem bagunçados, o processo de análise será mais lento e trabalhoso, como tentar cozinhar em uma cozinha desorganizada.\n",
    "\n",
    "**Confiabilidade**: Quando os dados são tratados adequadamente, você pode confiar nos resultados obtidos. Isso é crucial em qualquer projeto de Data Science, onde decisões importantes podem ser baseadas nesses resultados."
   ]
  },
  {
   "cell_type": "markdown",
   "metadata": {},
   "source": [
    "## Invalidação é um Problema!"
   ]
  },
  {
   "cell_type": "markdown",
   "metadata": {},
   "source": [
    "A validação de dados é como um filtro que garante que somente informações corretas, consistentes e seguras entrem no sistema. Sem esse filtro, o sistema fica vulnerável a uma série de problemas, desde erros simples e inconsistências até falhas graves de segurança e decisões equivocadas. Portanto, a validação é essencial para garantir a integridade, segurança, e confiabilidade de qualquer aplicação ou sistema de dados."
   ]
  },
  {
   "cell_type": "markdown",
   "metadata": {},
   "source": [
    "### Metodos Que Podem Ser Utilizados Para Tratamento"
   ]
  },
  {
   "cell_type": "code",
   "execution_count": 2,
   "metadata": {},
   "outputs": [],
   "source": [
    "import pandas as pd\n",
    "\n",
    "data = {\n",
    "    'cidade': ['São Paulo', 'Rio de Janeiro', 'Curitiba', 'Belo Horizonte', 'Salvador'],\n",
    "    'estado': ['SP', 'RJ', 'PR', 'MG', 'BA'],\n",
    "    'população': [12.33, 6.72, 1.96, 2.52, 2.88],\n",
    "    'sexo': ['M', 'F', 'M', 'F', 'M'],\n",
    "    'preço': [None, 10.5, 20.0, None, 30.0]\n",
    "}\n",
    "\n",
    "df = pd.DataFrame(data)\n"
   ]
  },
  {
   "cell_type": "code",
   "execution_count": 3,
   "metadata": {},
   "outputs": [
    {
     "data": {
      "text/plain": [
       "0    São Paulo\n",
       "1           RJ\n",
       "2           PR\n",
       "3           MG\n",
       "4           BA\n",
       "Name: estado, dtype: object"
      ]
     },
     "execution_count": 3,
     "metadata": {},
     "output_type": "execute_result"
    }
   ],
   "source": [
    "# .replace()\n",
    "'''\n",
    "O que faz: Substitui valores específicos em uma série ou DataFrame por novos valores. \n",
    "Pode substituir valores únicos ou múltiplos, com base em condições.\n",
    "\n",
    "Por que usar: Útil para limpar ou padronizar dados, como substituir valores ausentes ou corrigir valores incorretos.\n",
    "'''\n",
    "df['estado'].replace('SP', 'São Paulo')"
   ]
  },
  {
   "cell_type": "code",
   "execution_count": 4,
   "metadata": {},
   "outputs": [
    {
     "data": {
      "text/plain": [
       "0    Masculino\n",
       "1     Feminino\n",
       "2    Masculino\n",
       "3     Feminino\n",
       "4    Masculino\n",
       "Name: sexo, dtype: object"
      ]
     },
     "execution_count": 4,
     "metadata": {},
     "output_type": "execute_result"
    }
   ],
   "source": [
    "# .map()\n",
    "\n",
    "'''\n",
    "O que faz: Aplica uma função ou mapeamento (como um dicionário) a cada elemento de uma série.\n",
    "\n",
    "Por que usar: Útil para transformar dados de forma simples, como converter valores \n",
    "categóricos em numéricos, ou aplicar uma transformação personalizada.\n",
    "'''\n",
    "\n",
    "df['sexo'].map({'M': 'Masculino', 'F': 'Feminino'})\n"
   ]
  },
  {
   "cell_type": "code",
   "execution_count": 11,
   "metadata": {},
   "outputs": [
    {
     "data": {
      "text/html": [
       "<div>\n",
       "<style scoped>\n",
       "    .dataframe tbody tr th:only-of-type {\n",
       "        vertical-align: middle;\n",
       "    }\n",
       "\n",
       "    .dataframe tbody tr th {\n",
       "        vertical-align: top;\n",
       "    }\n",
       "\n",
       "    .dataframe thead th {\n",
       "        text-align: right;\n",
       "    }\n",
       "</style>\n",
       "<table border=\"1\" class=\"dataframe\">\n",
       "  <thead>\n",
       "    <tr style=\"text-align: right;\">\n",
       "      <th></th>\n",
       "      <th>cidade</th>\n",
       "    </tr>\n",
       "  </thead>\n",
       "  <tbody>\n",
       "    <tr>\n",
       "      <th>0</th>\n",
       "      <td>São Paulo</td>\n",
       "    </tr>\n",
       "    <tr>\n",
       "      <th>1</th>\n",
       "      <td>Rio de Janeiro</td>\n",
       "    </tr>\n",
       "    <tr>\n",
       "      <th>2</th>\n",
       "      <td>Curitiba</td>\n",
       "    </tr>\n",
       "    <tr>\n",
       "      <th>3</th>\n",
       "      <td>Belo Horizonte</td>\n",
       "    </tr>\n",
       "    <tr>\n",
       "      <th>4</th>\n",
       "      <td>Salvador</td>\n",
       "    </tr>\n",
       "  </tbody>\n",
       "</table>\n",
       "</div>"
      ],
      "text/plain": [
       "           cidade\n",
       "0       São Paulo\n",
       "1  Rio de Janeiro\n",
       "2        Curitiba\n",
       "3  Belo Horizonte\n",
       "4        Salvador"
      ]
     },
     "execution_count": 11,
     "metadata": {},
     "output_type": "execute_result"
    }
   ],
   "source": [
    "# .filter()\n",
    "''' \n",
    "O que faz: Filtra o DataFrame com base em critérios, como rótulos de colunas ou condições específicas.\n",
    "\n",
    "Por que usar: Essencial para selecionar subconjuntos de dados com base em colunas \n",
    "específicas ou condições aplicadas nas linhas.\n",
    "'''\n",
    "cidades = df.filter(like='cidade')#Filtrar colunas que contenham a palavra 'cidade':\n",
    "cidades\n"
   ]
  },
  {
   "cell_type": "code",
   "execution_count": 9,
   "metadata": {},
   "outputs": [],
   "source": [
    "# .apply()\n",
    "\n",
    "'''\n",
    "O que faz: Aplica uma função personalizada a cada elemento, linha ou coluna em uma série ou DataFrame.\n",
    "Por que usar: Fornece flexibilidade máxima ao permitir aplicar funções complexas a dados, \n",
    "seja por elemento, por linha, ou por coluna.\n",
    "'''\n",
    "\n",
    "df['preço_com_imposto'] = df['preço'].apply(lambda x: x * 1.2)"
   ]
  }
 ],
 "metadata": {
  "kernelspec": {
   "display_name": "Python 3",
   "language": "python",
   "name": "python3"
  },
  "language_info": {
   "codemirror_mode": {
    "name": "ipython",
    "version": 3
   },
   "file_extension": ".py",
   "mimetype": "text/x-python",
   "name": "python",
   "nbconvert_exporter": "python",
   "pygments_lexer": "ipython3",
   "version": "3.12.2"
  }
 },
 "nbformat": 4,
 "nbformat_minor": 2
}
