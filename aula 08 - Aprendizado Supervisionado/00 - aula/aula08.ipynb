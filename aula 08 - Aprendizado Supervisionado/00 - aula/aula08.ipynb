{
 "cells": [
  {
   "cell_type": "markdown",
   "metadata": {},
   "source": [
    "# Aprendizado Supervisionado"
   ]
  },
  {
   "cell_type": "markdown",
   "metadata": {},
   "source": [
    "# O Que É?"
   ]
  },
  {
   "cell_type": "markdown",
   "metadata": {},
   "source": [
    "Aprendizado supervisionado é um tipo de aprendizado de máquina onde o objetivo é ensinar uma máquina a fazer previsões com base em exemplos fornecidos previamente.\n",
    "\n",
    "**Funciona assim**: imagine que você tem um conjunto de dados composto por exemplos (entradas) e respostas corretas (saídas). Esses dados são usados para treinar o modelo, que vai aprender a reconhecer padrões.\n",
    "\n",
    "Por exemplo, suponha que você queira ensinar um modelo a diferenciar gatos de cachorros. Você mostra várias imagens de gatos e cachorros junto com as \"respostas\" corretas (se é um gato ou um cachorro). O modelo aprende a identificar características como orelhas, tamanho, ou formato do rosto, e tenta associar essas características com a resposta certa.\n",
    "\n",
    "Depois de aprender com esses exemplos, o modelo pode receber uma nova imagem, que ele nunca viu antes, e tentar adivinhar se é um gato ou um cachorro, com base no que aprendeu.\n",
    "\n",
    "Esse processo é chamado de \"supervisionado\" porque, durante o treinamento, o modelo recebe orientação (as respostas certas) para aprender"
   ]
  },
  {
   "cell_type": "markdown",
   "metadata": {},
   "source": [
    "## Algoritmos\n",
    "\n",
    "Algoritmos de Machine Learning (aprendizado de máquina) são métodos ou técnicas que uma máquina (ou computador) usa para aprender padrões a partir de dados e tomar decisões ou fazer previsões sem ser explicitamente programada para isso."
   ]
  },
  {
   "cell_type": "markdown",
   "metadata": {},
   "source": [
    "### Regressão Linear\n",
    "Este algoritmo tenta encontrar uma relação linear entre uma variável independente (entrada) e uma variável dependente (saída). Ele é usado quando você quer prever um valor numérico, como o preço de uma casa, baseado em características como tamanho ou localização.\n",
    "\n",
    "Exemplo: Prever o preço de uma casa com base no seu tamanho."
   ]
  },
  {
   "cell_type": "markdown",
   "metadata": {},
   "source": [
    "### Regressão Logística\n",
    "\n",
    "Usado para prever uma probabilidade ou classificar dados binários (por exemplo, sim/não, verdadeiro/falso).\n",
    "\n",
    "Exemplo: Prever se um e-mail é spam ou não."
   ]
  },
  {
   "cell_type": "markdown",
   "metadata": {},
   "source": [
    "### Máquinas de Vetores de Suporte (SVM)\n",
    "\n",
    "Utilizado para classificar dados, encontrando a linha (ou hiperplano) que melhor separa as classes.\n",
    "\n",
    "Exemplo: Classificar se uma imagem contém um gato ou um cachorro."
   ]
  },
  {
   "cell_type": "markdown",
   "metadata": {},
   "source": [
    "### Árvores de Decisão\n",
    "\n",
    "Faz classificações e previsões criando uma árvore de decisões baseada em perguntas binárias (sim/não).\n",
    "\n",
    "Exemplo: Decidir se uma pessoa deve receber um empréstimo com base em sua renda e histórico de crédito."
   ]
  },
  {
   "cell_type": "markdown",
   "metadata": {},
   "source": [
    "### Random Forest (Floresta Aleatória)\n",
    "\n",
    "Um conjunto de várias árvores de decisão, combinando suas previsões para melhorar a precisão e evitar superajuste.\n",
    "\n",
    "Exemplo: Prever se um paciente tem uma doença com base em várias características."
   ]
  },
  {
   "cell_type": "markdown",
   "metadata": {},
   "source": [
    "### Passo a Passo do Treinamento Supervisionado"
   ]
  },
  {
   "cell_type": "markdown",
   "metadata": {},
   "source": [
    "1. Coleta de dados: coleta de dados para ensinar o modelo.\n",
    "\n",
    "2. Pré-processamento: Limpeza e preparação dos dados (remoção de erros ou dados ausentes).\n",
    "\n",
    "3. Divisão dos dados: Os dados são divididos em conjunto de treino (para ensinar o modelo) e conjunto de teste (para avaliar o modelo).\n",
    "\n",
    "4. Treinamento: O modelo aprende a partir dos dados de treino.\n",
    "\n",
    "5. Avaliação: Avaliação do modelo usando dados de teste, que ele nunca viu antes.\n"
   ]
  }
 ],
 "metadata": {
  "kernelspec": {
   "display_name": "Python 3",
   "language": "python",
   "name": "python3"
  },
  "language_info": {
   "codemirror_mode": {
    "name": "ipython",
    "version": 3
   },
   "file_extension": ".py",
   "mimetype": "text/x-python",
   "name": "python",
   "nbconvert_exporter": "python",
   "pygments_lexer": "ipython3",
   "version": "3.12.2"
  }
 },
 "nbformat": 4,
 "nbformat_minor": 2
}
