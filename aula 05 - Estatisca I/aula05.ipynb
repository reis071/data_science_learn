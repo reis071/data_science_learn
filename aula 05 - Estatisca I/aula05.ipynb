{
 "cells": [
  {
   "cell_type": "markdown",
   "metadata": {},
   "source": [
    "# Estatistica I"
   ]
  },
  {
   "cell_type": "markdown",
   "metadata": {},
   "source": [
    "## O Que É  Estatistica?\n",
    "\n",
    "Estatística é a área da matemática que nos ajuda a coletar, organizar, analisar e interpretar dados. Ela nos permite entender melhor o que está acontecendo ao nosso redor usando números e gráficos."
   ]
  },
  {
   "cell_type": "markdown",
   "metadata": {},
   "source": [
    "Pensa assim: quando você tem muitas informações (como as notas dos alunos de uma escola ou o número de gols em um campeonato), pode ser difícil tirar conclusões apenas olhando os dados brutos. A estatística ajuda a transformar esses dados em algo mais fácil de entender, como a média das notas, qual foi a nota mais alta ou a quantidade de gols feita por cada time.\n",
    "\n",
    "Com a estatística, podemos responder perguntas como: \"Qual é a chance de chover amanhã?\" ou \"Quantas pessoas, em média, compram ingressos para o cinema em um dia?\" Ela é usada em praticamente todos os campos, como economia, saúde, esportes e até na análise de redes sociais."
   ]
  },
  {
   "cell_type": "markdown",
   "metadata": {},
   "source": [
    "## Estatistica Em Ciência De Dados\n",
    "\n",
    "Na ciência de dados, a estatística tem um papel fundamental, pois é a base para entender, analisar e interpretar os dados de maneira eficiente. Ela oferece as ferramentas necessárias para extrair informações úteis e tomar decisões com base em grandes volumes de dados. Aqui estão os principais papéis da estatística na ciência de dados:"
   ]
  },
  {
   "cell_type": "markdown",
   "metadata": {},
   "source": [
    "\n",
    "\n",
    "**Coleta de Dados**: Ajuda a planejar experimentos e pesquisas para garantir que os dados coletados sejam relevantes e confiáveis.\n",
    "\n",
    "**Análise de Dados**: A estatística permite resumir e organizar dados de maneira compreensível. Isso envolve cálculos como médias, medianas, desvio padrão e a criação de gráficos para visualizar tendências.\n",
    "\n",
    "**Inferência Estatística**: Usamos amostras de dados para fazer inferências sobre a população em geral. Isso envolve calcular probabilidades e margens de erro para fazer previsões com confiança.\n",
    "\n",
    "**Modelagem Preditiva**: Estatística é a base para muitos algoritmos de machine learning, como regressão linear, modelos de classificação e redes neurais. Esses modelos são usados para prever comportamentos ou resultados futuros com base em dados passados.\n",
    "\n",
    "**Testes de Hipóteses**: A estatística permite validar suposições ou hipóteses. Por exemplo, se você quer saber se uma campanha de marketing teve impacto nas vendas, os testes estatísticos ajudam a verificar se os resultados observados são significativos.\n",
    "\n",
    "**Tomada de Decisão Baseada em Dados**: Com as análises estatísticas, empresas e organizações podem tomar decisões mais informadas, baseadas em dados reais e não em suposições ou intuições.\n",
    "\n",
    "Resumindo, a estatística é essencial na ciência de dados porque transforma grandes quantidades de informações em insights valiosos e ajuda a prever cenários futuros com base em padrões nos dados."
   ]
  },
  {
   "cell_type": "markdown",
   "metadata": {},
   "source": [
    "## Variaveis Estatisticas\n",
    "\n",
    "Variáveis estatísticas são as características ou atributos que estamos medindo ou observando em um conjunto de dados. Elas representam os diferentes tipos de dados que podem ser coletados em uma pesquisa, estudo ou experimento. Em estatística, as variáveis são divididas em diferentes categorias, com base no tipo de dado que representam e no modo como podem ser mensuradas."
   ]
  },
  {
   "cell_type": "markdown",
   "metadata": {},
   "source": [
    "### Variáveis Qualitativas (Categóricas)\n",
    "\n",
    "São variáveis que representam características ou qualidades, e não podem ser expressas numericamente de maneira direta. Elas são usadas para categorizar ou classificar."
   ]
  },
  {
   "cell_type": "markdown",
   "metadata": {},
   "source": [
    "**Nominais**: Não possuem ordem ou hierarquia, apenas categorias distintas.\n",
    "\n",
    "**Exemplo**: cor dos olhos (azul, verde, castanho), tipo de fruta (maçã, banana, laranja)."
   ]
  },
  {
   "cell_type": "markdown",
   "metadata": {},
   "source": [
    "**Ordinais**: Possuem uma ordem ou hierarquia, mas as diferenças entre os valores não são quantificáveis.\n",
    "\n",
    "**Exemplo**: nível de escolaridade (fundamental, médio, superior), satisfação (insatisfeito, satisfeito, muito satisfeito)."
   ]
  },
  {
   "cell_type": "markdown",
   "metadata": {},
   "source": [
    "### Variáveis Quantitativas (Numéricas)\n",
    "\n",
    "Representam quantidades ou valores numéricos. Elas podem ser medidas e manipuladas matematicamente."
   ]
  },
  {
   "cell_type": "markdown",
   "metadata": {},
   "source": [
    "**Discretas**: Assumem valores inteiros e não fracionados. Geralmente representam contagens.\n",
    "\n",
    "**Exemplo**: número de filhos, número de carros em um estacionamento, quantidade de produtos vendidos."
   ]
  },
  {
   "cell_type": "markdown",
   "metadata": {},
   "source": [
    "**Contínuas**: Podem assumir qualquer valor dentro de um intervalo, incluindo frações e decimais. Geralmente representam medições.\n",
    "\n",
    "**Exemplo**: altura, peso, tempo, temperatura."
   ]
  },
  {
   "cell_type": "markdown",
   "metadata": {},
   "source": [
    "### Variáveis Dependentes"
   ]
  },
  {
   "cell_type": "markdown",
   "metadata": {},
   "source": [
    "**Variáveis Dependentes**: São as variáveis que estamos tentando prever ou explicar. Elas dependem das variáveis independentes.\n",
    "\n",
    "**Exemplo**: O desempenho de um aluno em uma prova pode ser uma variável dependente, que depende de fatores como tempo de estudo ou métodos de ensino."
   ]
  },
  {
   "cell_type": "markdown",
   "metadata": {},
   "source": [
    "### Variáveis Independentes"
   ]
  },
  {
   "cell_type": "markdown",
   "metadata": {},
   "source": [
    "**Variáveis Independentes**: São as variáveis que influenciam ou causam mudanças nas variáveis dependentes.\n",
    "\n",
    "**Exemplo**: O tempo de estudo é uma variável independente que pode influenciar o desempenho em uma prova."
   ]
  },
  {
   "cell_type": "markdown",
   "metadata": {},
   "source": [
    "## População E Amostra"
   ]
  },
  {
   "cell_type": "markdown",
   "metadata": {},
   "source": [
    "### População\n",
    "\n",
    "População refere-se ao conjunto completo de indivíduos ou itens que têm algo em comum e que estão sendo estudados. Pode ser qualquer coisa que você esteja interessado em medir ou analisar."
   ]
  },
  {
   "cell_type": "markdown",
   "metadata": {},
   "source": [
    "### Amostra\n",
    "\n",
    "Amostra é um subconjunto da população que é selecionado para o estudo. A ideia é que, ao analisar a amostra, você possa fazer inferências ou generalizações sobre a população total."
   ]
  },
  {
   "cell_type": "markdown",
   "metadata": {},
   "source": [
    "### Exemplo"
   ]
  },
  {
   "cell_type": "markdown",
   "metadata": {},
   "source": [
    "Imagine que você quer entender a satisfação dos clientes de um restaurante. A **população** é todos os clientes que visitaram o restaurante. Como é difícil falar com todos os clientes, você decide fazer uma pesquisa com 100 clientes selecionados aleatoriamente. Esses 100 clientes formam a sua **amostra**.\n",
    "\n",
    "Se a amostra for bem escolhida e representativa, você pode usar os resultados da pesquisa para inferir como a população total pode estar se sentindo."
   ]
  },
  {
   "cell_type": "markdown",
   "metadata": {},
   "source": [
    "## Frequência simples e frequência relativa\n",
    "\n",
    "São formas de contar e representar como os dados estão distribuídos em um conjunto de dados. Elas ajudam a entender quantas vezes cada valor ou categoria aparece."
   ]
  },
  {
   "cell_type": "markdown",
   "metadata": {},
   "source": [
    "###  Frequência Simples (ou Absoluta)\n",
    "\n",
    "A frequência simples é o número de vezes que um determinado valor ou categoria aparece em um conjunto de dados. É apenas a contagem direta."
   ]
  },
  {
   "cell_type": "markdown",
   "metadata": {},
   "source": [
    "Suponha que você tenha as seguintes notas de alunos:\n",
    "\n",
    "| Notas | Frequência Simples |\n",
    "|-------|--------------------|\n",
    "|   5   |         3          |\n",
    "|   7   |         5          |\n",
    "|   9   |         2          |\n",
    "\n",
    "Aqui, a nota 5 apareceu 3 vezes, a nota 7 apareceu 5 vezes, e a nota 9 apareceu 2 vezes. Isso é a frequência simples."
   ]
  },
  {
   "cell_type": "markdown",
   "metadata": {},
   "source": [
    "### Frequência Relativa\n",
    "\n",
    "A frequência relativa mostra a proporção ou porcentagem de vezes que um determinado valor ou categoria aparece, em relação ao total de dados. Ela é calculada dividindo a frequência simples pelo total de observações e, geralmente, expressa em porcentagem ou fração."
   ]
  },
  {
   "cell_type": "markdown",
   "metadata": {},
   "source": [
    "$$\n",
    "frequenciaRelativa = \\frac{frequeciaAbsoluta}{NumeroDeOcorrencias}\n",
    "$$"
   ]
  },
  {
   "cell_type": "markdown",
   "metadata": {},
   "source": [
    "| Categoria | Frequência Absoluta | Frequência Relativa (%) |\n",
    "|-----------|----------------------|-------------------------|\n",
    "| A         | 20                   | 40%                     |\n",
    "| B         | 15                   | 30%                     |\n",
    "| C         | 10                   | 20%                     |\n",
    "| D         | 5                    | 10%                     |\n",
    "| **Total** | **50**               | **100%**                |\n",
    "\n",
    "**Categoria**: A categoria ou classe da variável.\n",
    "\n",
    "**Frequência Absoluta**: Número de ocorrências para cada categoria.\n",
    "\n",
    "**Frequência Relativa (%)**: Porcentagem da frequência absoluta em relação ao total."
   ]
  },
  {
   "cell_type": "markdown",
   "metadata": {},
   "source": [
    "### Exemplos Code"
   ]
  },
  {
   "cell_type": "code",
   "execution_count": 3,
   "metadata": {},
   "outputs": [],
   "source": [
    "import pandas as pd\n",
    "\n",
    "# Criando um DataFrame de exemplo\n",
    "data = {'Categoria': ['A', 'B', 'A', 'C', 'B', 'A', 'D', 'C', 'B', 'A']}\n",
    "df = pd.DataFrame(data)"
   ]
  },
  {
   "cell_type": "code",
   "execution_count": 4,
   "metadata": {},
   "outputs": [
    {
     "data": {
      "text/plain": [
       "Categoria\n",
       "A    4\n",
       "B    3\n",
       "C    2\n",
       "D    1\n",
       "Name: count, dtype: int64"
      ]
     },
     "execution_count": 4,
     "metadata": {},
     "output_type": "execute_result"
    }
   ],
   "source": [
    "# Frequência simples\n",
    "frequencia_simples = df['Categoria'].value_counts()\n",
    "\n",
    "frequencia_simples"
   ]
  },
  {
   "cell_type": "code",
   "execution_count": 5,
   "metadata": {},
   "outputs": [
    {
     "data": {
      "text/plain": [
       "Categoria\n",
       "A    40.0\n",
       "B    30.0\n",
       "C    20.0\n",
       "D    10.0\n",
       "Name: proportion, dtype: float64"
      ]
     },
     "execution_count": 5,
     "metadata": {},
     "output_type": "execute_result"
    }
   ],
   "source": [
    "# Frequência relativa\n",
    "frequencia_relativa = df['Categoria'].value_counts(normalize=True) * 100\n",
    "\n",
    "frequencia_relativa"
   ]
  },
  {
   "cell_type": "markdown",
   "metadata": {},
   "source": [
    "## Estatística descritiva\n",
    "\n",
    "É a área da estatística que se concentra em resumir e descrever os dados de maneira simples e clara. O objetivo é organizar e apresentar as informações de forma que façam sentido, sem fazer previsões ou tirar conclusões além dos dados disponíveis.\n",
    "\n",
    "Ela usa medidas numéricas e gráficos para ajudar a entender padrões e comportamentos dos dados. Existem algumas formas principais de descrever os dados:"
   ]
  },
  {
   "cell_type": "markdown",
   "metadata": {},
   "source": [
    "### Medidas de Tendência Central"
   ]
  },
  {
   "cell_type": "markdown",
   "metadata": {},
   "source": [
    "#### Média\n",
    "\n",
    "A média é calculada pela soma de todos os valores dividida pelo número de observações."
   ]
  },
  {
   "cell_type": "markdown",
   "metadata": {},
   "source": [
    "$$\n",
    "Média = \\frac{\\sum{x}}{n} \n",
    "$$\n"
   ]
  },
  {
   "cell_type": "code",
   "execution_count": 7,
   "metadata": {},
   "outputs": [
    {
     "name": "stdout",
     "output_type": "stream",
     "text": [
      "Média: 164.0\n"
     ]
    }
   ],
   "source": [
    "import numpy as np\n",
    "\n",
    "dados = [150, 160, 165, 170, 175]\n",
    "\n",
    "media = np.mean(dados)\n",
    "\n",
    "print(\"Média:\", media)"
   ]
  },
  {
   "cell_type": "markdown",
   "metadata": {},
   "source": [
    "#### Mediana\n",
    "\n",
    "A mediana é o valor que fica exatamente no meio quando os dados são organizados em ordem crescente ou decrescente. Se houver um número par de dados, a mediana será a média dos dois valores centrais.\n"
   ]
  },
  {
   "cell_type": "code",
   "execution_count": 8,
   "metadata": {},
   "outputs": [
    {
     "name": "stdout",
     "output_type": "stream",
     "text": [
      "Mediana: 165.0\n"
     ]
    }
   ],
   "source": [
    "dados = [150, 160, 165, 170, 175]\n",
    "mediana = np.median(dados)\n",
    "print(\"Mediana:\", mediana)"
   ]
  },
  {
   "cell_type": "markdown",
   "metadata": {},
   "source": [
    "#### Moda\n",
    "\n",
    "A moda é o valor que aparece com mais frequência em um conjunto de dados. Pode haver mais de uma moda se vários valores aparecerem com a mesma frequência."
   ]
  },
  {
   "cell_type": "code",
   "execution_count": 12,
   "metadata": {},
   "outputs": [
    {
     "name": "stdout",
     "output_type": "stream",
     "text": [
      "Moda: 0    165\n",
      "dtype: int64\n"
     ]
    }
   ],
   "source": [
    "#Retornando a moda utilizando pandas\n",
    "dados = pd.Series( [150, 160, 165, 165, 175])\n",
    "moda = dados.mode()\n",
    "print(\"Moda:\", moda)\n"
   ]
  },
  {
   "cell_type": "markdown",
   "metadata": {},
   "source": [
    "### Medidas De Dispersão"
   ]
  },
  {
   "cell_type": "markdown",
   "metadata": {},
   "source": [
    "#### Variância\n",
    "\n",
    "A variância é uma medida da dispersão dos dados em relação à média. Ela calcula a média dos quadrados das diferenças entre cada valor e a média.\n"
   ]
  },
  {
   "cell_type": "markdown",
   "metadata": {},
   "source": [
    "$$\n",
    "\\text{Variância} = \\frac{\\sum(x_i - media)^2}{n}\n",
    "$$"
   ]
  },
  {
   "cell_type": "code",
   "execution_count": null,
   "metadata": {},
   "outputs": [],
   "source": [
    "import numpy as np\n",
    "\n",
    "dados = [150, 160, 165, 170, 175]\n",
    "variancia = np.var(dados)\n",
    "print(\"Variância:\", variancia)"
   ]
  },
  {
   "cell_type": "markdown",
   "metadata": {},
   "source": [
    "### Desvio Padrão\n",
    "\n",
    "O desvio padrão é a raiz quadrada da variância e fornece uma medida da dispersão dos dados em torno da média.\n",
    "$$\n",
    " \\text{Desvio Padrão}  = \\sqrt{variancia}\n",
    "$$"
   ]
  },
  {
   "cell_type": "code",
   "execution_count": null,
   "metadata": {},
   "outputs": [],
   "source": [
    "import numpy as np\n",
    "\n",
    "dados = [150, 160, 165, 170, 175]\n",
    "desvio_padrao = np.std(dados)\n",
    "print(\"Desvio Padrão:\", desvio_padrao)"
   ]
  }
 ],
 "metadata": {
  "kernelspec": {
   "display_name": "Python 3",
   "language": "python",
   "name": "python3"
  },
  "language_info": {
   "codemirror_mode": {
    "name": "ipython",
    "version": 3
   },
   "file_extension": ".py",
   "mimetype": "text/x-python",
   "name": "python",
   "nbconvert_exporter": "python",
   "pygments_lexer": "ipython3",
   "version": "3.12.2"
  }
 },
 "nbformat": 4,
 "nbformat_minor": 2
}
