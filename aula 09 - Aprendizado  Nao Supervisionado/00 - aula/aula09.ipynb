{
 "cells": [
  {
   "cell_type": "markdown",
   "metadata": {},
   "source": [
    "# Aprendizado Não Supervisionado"
   ]
  },
  {
   "cell_type": "markdown",
   "metadata": {},
   "source": [
    "## O que é?"
   ]
  },
  {
   "cell_type": "markdown",
   "metadata": {},
   "source": [
    "Aprendizado não supervisionado é um tipo de aprendizado em machine learning onde o modelo é treinado em dados que não possuem rótulos ou classificações pré-definidas. Ao contrário do aprendizado supervisionado, onde o modelo aprende a partir de pares de entrada e saída (por exemplo, imagens e suas respectivas categorias), no aprendizado não supervisionado o modelo tenta descobrir padrões, estruturas ou agrupamentos nos dados por conta própria."
   ]
  },
  {
   "cell_type": "markdown",
   "metadata": {},
   "source": [
    "## Características principais"
   ]
  },
  {
   "cell_type": "markdown",
   "metadata": {},
   "source": [
    "Sem rótulos: O modelo não recebe rótulos ou resultados esperados durante o treinamento.\n",
    "\n",
    "Descoberta de padrões: O modelo busca padrões ou regularidades nos dados de forma autônoma.\n",
    "\n",
    "Análise exploratória: Frequentemente usado para explorar dados e identificar estruturas complexas ou relações entre os dados."
   ]
  },
  {
   "cell_type": "markdown",
   "metadata": {},
   "source": [
    "## Algoritmos de Aprendizado Não Supervisionado"
   ]
  },
  {
   "cell_type": "markdown",
   "metadata": {},
   "source": [
    "Clustering (Agrupamento):\n",
    "\n",
    "- Agrupamento é a tarefa de dividir um conjunto de objetos em grupos (clusters), de modo que objetos no mesmo grupo sejam mais semelhantes entre si do que com objetos de outros grupos.\n",
    "\n",
    "Exemplos:\n",
    "\n",
    "- K-Means: Um dos algoritmos mais populares de clustering. Ele tenta dividir os dados em K clusters baseados na similaridade dos dados.\n",
    "\n",
    "- Hierarchical Clustering: Cria uma hierarquia de clusters. Pode ser divisivo (começa com um cluster grande e o divide em clusters menores) ou aglomerativo (começa com cada ponto como um cluster individual e os agrupa).\n",
    "\n",
    "- DBSCAN: Um algoritmo de clustering baseado em densidade que identifica clusters com base na densidade local de pontos de dados."
   ]
  },
  {
   "cell_type": "markdown",
   "metadata": {},
   "source": [
    "Redução de Dimensionalidade:\n",
    "\n",
    "- Esses algoritmos transformam os dados de alta dimensionalidade em um espaço de menor dimensão, preservando a maior quantidade possível de informação.\n",
    "\n",
    "Exemplos:\n",
    "\n",
    "- PCA (Principal Component Analysis): Um método que transforma os dados em um novo conjunto de variáveis (componentes principais), onde cada componente captura a maior parte da variância dos dados originais.\n"
   ]
  },
  {
   "cell_type": "markdown",
   "metadata": {},
   "source": [
    "Associação:\n",
    "\n",
    "- Algoritmos de associação são usados para encontrar regras que descrevem grandes partes dos dados.\n",
    "\n",
    "Exemplo:\n",
    "\n",
    "- Algoritmo Apriori: Muito usado em sistemas de recomendação, como para identificar padrões de compras (ex.: \"Se uma pessoa compra pão, é provável que ela também compre leite\")."
   ]
  }
 ],
 "metadata": {
  "language_info": {
   "name": "python"
  }
 },
 "nbformat": 4,
 "nbformat_minor": 2
}
