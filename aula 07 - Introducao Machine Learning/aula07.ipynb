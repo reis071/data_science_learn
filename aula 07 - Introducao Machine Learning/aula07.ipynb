{
 "cells": [
  {
   "cell_type": "markdown",
   "metadata": {},
   "source": [
    "# Introdução a Machine Learning"
   ]
  },
  {
   "cell_type": "markdown",
   "metadata": {},
   "source": [
    "## Oque É Machine Learning?\n",
    "\n",
    "Machine Learning (ou Aprendizado de Máquina) é uma área da inteligência artificial que permite que computadores aprendam a realizar tarefas sem serem explicitamente programados para isso. Em vez de seguir instruções fixas, o computador \"aprende\" a partir de dados, detectando padrões e tomando decisões ou fazendo previsões com base nesses padrões.\n",
    "\n",
    "Imagine que você quer ensinar uma máquina a reconhecer gatos em fotos. Em vez de programar regras específicas (como \"gatos têm orelhas pontudas, bigodes e caudas\"), você alimenta a máquina com muitas fotos de gatos e não-gatos. O computador, então, aprende por si só a distinguir as características que fazem de uma imagem um gato.\n",
    "\n",
    "Em resumo, Machine Learning é como ensinar uma máquina a resolver problemas com exemplos, em vez de dar a ela todas as respostas desde o início."
   ]
  },
  {
   "cell_type": "markdown",
   "metadata": {},
   "source": [
    "### Beneficios Do Machine Learning"
   ]
  },
  {
   "cell_type": "markdown",
   "metadata": {},
   "source": [
    "#### Automação de Processos Complexos"
   ]
  },
  {
   "cell_type": "markdown",
   "metadata": {},
   "source": [
    "ML permite que tarefas repetitivas e baseadas em padrões sejam automatizadas, como:\n",
    "\n",
    "- Reconhecimento de padrões em grandes volumes de dados.\n",
    "\n",
    "- Classificação automática de e-mails (spam ou não).\n",
    "\n",
    "- Reconhecimento de voz e imagem."
   ]
  },
  {
   "cell_type": "markdown",
   "metadata": {},
   "source": [
    "#### Melhora na Precisão das Previsões"
   ]
  },
  {
   "cell_type": "markdown",
   "metadata": {},
   "source": [
    "Sistemas de ML podem gerar previsões mais precisas à medida que aprendem com novos dados, superando modelos tradicionais que dependem de regras fixas. Isso é útil em:\n",
    "\n",
    "- Previsão de demanda de produtos.\n",
    "\n",
    "- Previsão de valores de mercado financeiro.\n",
    "\n",
    "- Diagnóstico médico (identificação de doenças a partir de exames)."
   ]
  },
  {
   "cell_type": "markdown",
   "metadata": {},
   "source": [
    "#### Análise de Grandes Quantidades de Dados"
   ]
  },
  {
   "cell_type": "markdown",
   "metadata": {},
   "source": [
    "O ML consegue processar e analisar grandes volumes de dados em alta velocidade, identificando padrões ocultos que seriam difíceis de perceber manualmente. Isso é essencial em áreas como:\n",
    "\n",
    "- Big Data e análise de comportamento de clientes.\n",
    "\n",
    "- Segurança cibernética, detectando atividades suspeitas em tempo real."
   ]
  },
  {
   "cell_type": "markdown",
   "metadata": {},
   "source": [
    "#### Capacidade de Aprendizado Contínuo"
   ]
  },
  {
   "cell_type": "markdown",
   "metadata": {},
   "source": [
    "Modelos de ML podem ser atualizados continuamente com novos dados, ajustando-se a mudanças no ambiente e melhorando seu desempenho ao longo do tempo. Exemplo:\n",
    "\n",
    "- Motores de recomendação (como o da Netflix) que aprendem com os gostos dos usuários para sugerir novos conteúdos."
   ]
  },
  {
   "cell_type": "markdown",
   "metadata": {},
   "source": [
    "### Empresas Que Fazem O Uso De Machine Learning"
   ]
  },
  {
   "cell_type": "markdown",
   "metadata": {},
   "source": [
    "#### Google"
   ]
  },
  {
   "cell_type": "markdown",
   "metadata": {},
   "source": [
    "**Produtos e Serviços**: O Google utiliza ML em uma ampla gama de produtos, como o Google Search (para fornecer melhores resultados de busca), o Gmail (para detectar spam) e o Google Photos (para reconhecimento de imagens).\n",
    "\n",
    "**Google Ads**: ML é usado para segmentar anúncios de maneira mais eficiente.\n",
    "\n",
    "**Google Assistant**: Usa ML para melhorar o reconhecimento de voz e fornecer respostas mais personalizadas."
   ]
  },
  {
   "cell_type": "markdown",
   "metadata": {},
   "source": [
    "#### Amazon"
   ]
  },
  {
   "cell_type": "markdown",
   "metadata": {},
   "source": [
    "**Recomendações de Produtos**: O Amazon usa ML para recomendar produtos com base no histórico de compras e comportamento de navegação dos clientes.\n",
    "\n",
    "**Alexa (Assistente de Voz)**: A inteligência por trás da Alexa utiliza ML para processar a fala e melhorar sua capacidade de resposta.\n",
    "\n",
    "**Amazon Web Services (AWS)**: AWS oferece serviços de ML em nuvem para empresas desenvolverem seus próprios modelos."
   ]
  },
  {
   "cell_type": "markdown",
   "metadata": {},
   "source": [
    "#### Facebook (Meta)"
   ]
  },
  {
   "cell_type": "markdown",
   "metadata": {},
   "source": [
    "**Algoritmo de Feed de Notícias**: O ML é usado para personalizar o feed de notícias dos usuários, mostrando postagens mais relevantes com base nas interações anteriores.\n",
    "\n",
    "**Reconhecimento de Imagens**: A tecnologia de ML ajuda no reconhecimento facial automático nas fotos e no agrupamento de imagens semelhantes.\n",
    "\n",
    "**Moderação de Conteúdo**: Usam ML para identificar e remover conteúdo impróprio ou falso."
   ]
  },
  {
   "cell_type": "markdown",
   "metadata": {},
   "source": [
    "#### Tesla"
   ]
  },
  {
   "cell_type": "markdown",
   "metadata": {},
   "source": [
    "**Autopilot (Carros Autônomos)**: Tesla usa ML em seus veículos para treinar sistemas de condução autônoma, detectando e reagindo a diferentes situações de trânsito em tempo real.\n",
    "\n",
    "**Prevenção de Acidentes**: ML é usado para interpretar dados de sensores e câmeras e tomar decisões rápidas para evitar acidentes."
   ]
  },
  {
   "cell_type": "markdown",
   "metadata": {},
   "source": [
    "Essas empresas utilizam Machine Learning em muitas áreas diferentes para melhorar suas operações, criar produtos mais inteligentes e fornecer experiências mais personalizadas para seus usuários."
   ]
  },
  {
   "cell_type": "markdown",
   "metadata": {},
   "source": [
    "### Tipos De Machine Learning\n",
    "\n",
    "Existem três principais tipos de Machine Learning (Aprendizado de Máquina), cada um com métodos e aplicações específicas."
   ]
  },
  {
   "cell_type": "markdown",
   "metadata": {},
   "source": [
    "#### Aprendizado Supervisionado\n",
    "\n",
    "No aprendizado supervisionado, o modelo é treinado com um conjunto de dados rotulado, ou seja, cada entrada tem uma resposta ou saída conhecida. O objetivo é fazer com que o modelo aprenda a mapear as entradas para as saídas corretas, de modo que possa fazer previsões sobre novos dados."
   ]
  },
  {
   "cell_type": "markdown",
   "metadata": {},
   "source": [
    "**Como funciona**: O modelo recebe exemplos de entrada e a saída correspondente, e a tarefa é aprender a relação entre essas duas variáveis.\n",
    "\n",
    "**Aplicações**:\n",
    "   - Classificação: Prever categorias (e.g., reconhecer se um e-mail é spam ou não).\n",
    "\n",
    "   - Regressão: Prever valores contínuos (e.g., prever o preço de uma casa com base em      características como tamanho, localização, etc.).\n",
    "\n",
    "**Exemplos**:\n",
    "\n",
    "    - Classificação de imagens.\n",
    "\n",
    "    - Reconhecimento de fala.\n",
    "    \n",
    "    - Previsão de vendas."
   ]
  },
  {
   "cell_type": "markdown",
   "metadata": {},
   "source": [
    "#### Aprendizado Não Supervisionado\n",
    "\n",
    "No aprendizado não supervisionado, o modelo trabalha com dados que não possuem rótulos, ou seja, não há respostas ou saídas fornecidas. O objetivo é descobrir padrões ocultos ou estruturas dentro dos dados."
   ]
  },
  {
   "cell_type": "markdown",
   "metadata": {},
   "source": [
    "**Como funciona**: O modelo tenta encontrar padrões nos dados sem orientação prévia, como agrupar dados semelhantes ou reduzir a dimensionalidade dos dados para facilitar a visualização.\n",
    "\n",
    "**Aplicações**:\n",
    "\n",
    "- Agrupamento (Clustering): Agrupar dados semelhantes (e.g., segmentar clientes em grupos com comportamentos de compra similares).\n",
    "\n",
    "- Redução de Dimensionalidade: Simplificar grandes conjuntos de dados, removendo variáveis redundantes (e.g., compressão de imagens).\n",
    "\n",
    "**Exemplos**:\n",
    "\n",
    "    - Agrupamento de clientes para marketing segmentado.\n",
    "\n",
    "    - Detecção de anomalias em transações financeiras."
   ]
  },
  {
   "cell_type": "markdown",
   "metadata": {},
   "source": [
    "#### Aprendizado por Reforço\n",
    "\n",
    "O aprendizado por reforço é um tipo de aprendizado onde um agente interage com um ambiente e aprende a tomar decisões por tentativa e erro. O agente recebe recompensas ou punições com base nas ações que realiza, e seu objetivo é maximizar a recompensa total ao longo do tempo."
   ]
  },
  {
   "cell_type": "markdown",
   "metadata": {},
   "source": [
    "**Como funciona**: O agente aprende a executar ações em um ambiente a fim de maximizar uma recompensa cumulativa, ajustando suas ações com base no feedback que recebe.\n",
    "\n",
    "**Aplicações**:\n",
    "\n",
    "- Jogos: Sistemas de IA que aprendem a jogar jogos (e.g., AlphaGo da Google).\n",
    "\n",
    "- Controle Robótico: Robôs aprendendo a realizar tarefas complexas (e.g., dirigir carros autônomos).\n",
    "\n",
    "**Exemplos**:\n",
    "    \n",
    "    - Treinamento de robôs para realizar tarefas específicas.\n",
    "    \n",
    "    - Desenvolvimento de IA para jogos como xadrez ou Go.\n",
    "    \n",
    "    - Otimização de sistemas de recomendação."
   ]
  },
  {
   "cell_type": "markdown",
   "metadata": {},
   "source": [
    "#### Resumo\n",
    "\n",
    "**Supervisionado**: O modelo aprende a partir de dados rotulados, ideal para tarefas como classificação e regressão.\n",
    "\n",
    "**Não Supervisionado**: O modelo busca padrões em dados não rotulados, como em agrupamento e detecção de anomalias.\n",
    "\n",
    "**Reforço**: O agente aprende por tentativa e erro, tomando decisões em um ambiente e maximizando recompensas."
   ]
  },
  {
   "cell_type": "markdown",
   "metadata": {},
   "source": [
    "### Machine Learning X IA\n",
    "\n",
    "Machine Learning (ML) e Inteligência Artificial (IA) são termos relacionados, mas não são sinônimos."
   ]
  },
  {
   "cell_type": "markdown",
   "metadata": {},
   "source": [
    "#### Inteligência Artificial (IA)"
   ]
  },
  {
   "cell_type": "markdown",
   "metadata": {},
   "source": [
    "**Definição**: A IA é um campo amplo da ciência da computação que busca criar sistemas capazes de realizar tarefas que normalmente requerem inteligência humana. Isso inclui raciocinar, resolver problemas, entender linguagem natural, reconhecer padrões, e aprender com a experiência.\n",
    "\n",
    "**Objetivo**: O principal objetivo da IA é simular a inteligência humana, criando sistemas que possam funcionar de forma autônoma, adaptar-se a novas informações e realizar tarefas complexas de maneira inteligente.\n",
    "\n",
    "**Áreas da IA**\n",
    "\n",
    "- Visão Computacional: Sistemas que interpretam e compreendem imagens ou vídeos.\n",
    "Processamento de Linguagem Natural (NLP): Compreensão e geração de linguagem humana por máquinas (e.g., chatbots).\n",
    "\n",
    "- Sistemas Especialistas: Programas que imitam a capacidade de tomar decisões em áreas específicas.\n",
    "\n",
    "- Planejamento e Controle: Sistemas de IA que aprendem a tomar decisões em cenários dinâmicos, como a condução de veículos autônomos."
   ]
  },
  {
   "cell_type": "markdown",
   "metadata": {},
   "source": [
    "#### Machine Learning (ML)"
   ]
  },
  {
   "cell_type": "markdown",
   "metadata": {},
   "source": [
    "**Definição**: O Machine Learning é uma subárea da IA que foca em sistemas que podem aprender com dados. Ou seja, o ML envolve o desenvolvimento de algoritmos que permitem que as máquinas aprendam a partir de exemplos, sem a necessidade de serem explicitamente programadas para realizar uma tarefa.\n",
    "\n",
    "**Objetivo**: Fazer com que o sistema melhore automaticamente ao ser exposto a novos dados, descobrindo padrões, previsões ou decisões sem intervenção humana direta.\n",
    "\n",
    "**Como se Conecta com a IA**: O ML é uma ferramenta dentro da IA. Enquanto a IA busca criar sistemas inteligentes, o ML é uma das formas mais comuns e poderosas de atingir isso. Ele permite que a IA \"aprenda\" por meio de dados e melhore seu desempenho ao longo do tempo."
   ]
  },
  {
   "cell_type": "markdown",
   "metadata": {},
   "source": [
    "#### Diferenças Fundamentais"
   ]
  },
  {
   "cell_type": "markdown",
   "metadata": {},
   "source": [
    "| Aspecto                  | Inteligência Artificial (IA)               | Machine Learning (ML)                          |\n",
    "|--------------------------|--------------------------------------------|------------------------------------------------|\n",
    "| **Definição**             | Campo amplo que busca criar sistemas inteligentes, simulando aspectos da inteligência humana. | Subcampo da IA focado em algoritmos que aprendem com dados e melhoram ao longo do tempo. |\n",
    "| **Objetivo**              | Criar sistemas que imitem a inteligência humana e possam realizar tarefas complexas. | Criar modelos que aprendam com dados para melhorar previsões e decisões automáticas. |\n",
    "| **Métodos**               | Inclui métodos como aprendizado, raciocínio, percepção e controle. | Especificamente focado no aprendizado a partir de dados e exemplos. |\n"
   ]
  },
  {
   "cell_type": "markdown",
   "metadata": {},
   "source": [
    "## Deep Learnig\n",
    "\n",
    "Deep Learning é uma subárea do Machine Learning que foca em redes neurais artificiais com muitas camadas (por isso o termo \"deep\", ou \"profundo\"). A principal característica do Deep Learning é que ele permite que as máquinas aprendam de maneira mais hierárquica e complexa, imitando o modo como o cérebro humano processa informações."
   ]
  },
  {
   "cell_type": "markdown",
   "metadata": {},
   "source": [
    "## Redes Neurais Artificiais (RNA)"
   ]
  },
  {
   "cell_type": "markdown",
   "metadata": {},
   "source": [
    "Redes Neurais Artificiais são sistemas computacionais inspirados no cérebro humano, projetados para reconhecer padrões. Elas são compostas por unidades chamadas neurônios artificiais, organizadas em camadas, e são a base de muitos modelos de Deep Learning."
   ]
  }
 ],
 "metadata": {
  "language_info": {
   "name": "python"
  }
 },
 "nbformat": 4,
 "nbformat_minor": 2
}
