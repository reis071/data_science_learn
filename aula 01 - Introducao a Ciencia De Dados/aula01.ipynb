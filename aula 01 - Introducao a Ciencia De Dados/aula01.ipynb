{
 "cells": [
  {
   "cell_type": "markdown",
   "metadata": {},
   "source": [
    "# Introdução a Ciência de Dados"
   ]
  },
  {
   "cell_type": "markdown",
   "metadata": {},
   "source": [
    "## Oque É Ciência de Dados"
   ]
  },
  {
   "cell_type": "markdown",
   "metadata": {},
   "source": [
    "Ciência de dados é o campo que usa técnicas de estatística, matemática e programação para extrair informações úteis de dados. Pense nela como uma mistura de investigação e resolução de problemas, onde o objetivo é entender o que os dados estão nos dizendo e usar essas informações para tomar decisões melhores.\n",
    "\n",
    "Imagine que você tem uma grande pilha de números, textos ou imagens. Um cientista de dados pega essa pilha, limpa os dados (remove erros ou coisas desnecessárias), analisa-os usando ferramentas e modelos, e depois apresenta os resultados de uma forma que outras pessoas possam entender e usar. Por exemplo, em uma loja online, a ciência de dados pode ajudar a prever quais produtos os clientes provavelmente comprarão, para que a loja possa estocar esses itens.\n",
    "\n",
    "Em resumo, ciência de dados é sobre transformar dados em insights valiosos que podem ser usados para resolver problemas ou melhorar processos."
   ]
  },
  {
   "cell_type": "markdown",
   "metadata": {},
   "source": [
    "## Profissoes"
   ]
  },
  {
   "cell_type": "markdown",
   "metadata": {},
   "source": [
    "### Cientista de Dados"
   ]
  },
  {
   "cell_type": "markdown",
   "metadata": {},
   "source": [
    "**O que faz**: Um cientista de dados é como o “detetive” dos dados. Ele coleta, processa e analisa grandes volumes de dados para encontrar padrões, tendências e insights. Usa ferramentas estatísticas, programação (como Python ou R), e machine learning (aprendizado de máquina) para construir modelos preditivos e resolver problemas complexos. Além disso, precisa comunicar os resultados de forma clara para que sejam úteis na tomada de decisões.\n",
    "\n",
    "**Papel**: Criar modelos, interpretar dados e transformar informações brutas em insights acionáveis para o negócio."
   ]
  },
  {
   "cell_type": "markdown",
   "metadata": {},
   "source": [
    "### Analista de Dados"
   ]
  },
  {
   "cell_type": "markdown",
   "metadata": {},
   "source": [
    "**O que faz**: O analista de dados trabalha com dados para responder a perguntas específicas, como: “Qual foi o desempenho das vendas no último trimestre?”. Ele coleta dados, organiza e analisa usando ferramentas como Excel, SQL ou ferramentas de visualização (como Tableau ou Power BI).\n",
    "\n",
    "**Papel**: Analisar dados históricos, criar relatórios e fornecer insights para melhorar operações e estratégias."
   ]
  },
  {
   "cell_type": "markdown",
   "metadata": {},
   "source": [
    "### Engenheiro de Dados"
   ]
  },
  {
   "cell_type": "markdown",
   "metadata": {},
   "source": [
    "**O que faz**: Um engenheiro de dados constrói e mantém a infraestrutura que permite o armazenamento, a coleta e a análise de dados. Ele lida com grandes volumes de dados (big data), desenvolve pipelines de dados (processos automatizados para mover e transformar dados), e garante que os dados estejam disponíveis para os cientistas e analistas de dados.\n",
    "\n",
    "**Papel**: Criar e gerenciar sistemas robustos de armazenamento e processamento de dados, garantindo que os dados estejam acessíveis e em bom estado para análise."
   ]
  },
  {
   "cell_type": "markdown",
   "metadata": {},
   "source": [
    "## Ferrramentas"
   ]
  },
  {
   "cell_type": "markdown",
   "metadata": {},
   "source": [
    "### Linguagens de Programação"
   ]
  },
  {
   "cell_type": "markdown",
   "metadata": {},
   "source": [
    "**Python**: Uma das linguagens mais populares em ciência de dados devido à sua simplicidade e vasta quantidade de bibliotecas especializadas, como NumPy, Pandas, Matplotlib, Scikit-learn, entre outras. É usada para manipulação de dados, modelagem estatística, aprendizado de máquina e visualização.\n",
    "\n",
    "**R**: Muito usada em estatística e análises avançadas. Oferece uma grande variedade de pacotes para análise de dados, como ggplot2 para visualização e dplyr para manipulação de dados"
   ]
  },
  {
   "cell_type": "markdown",
   "metadata": {},
   "source": [
    "### Ferramentas de Manipulação e Análise de Dados"
   ]
  },
  {
   "cell_type": "markdown",
   "metadata": {},
   "source": [
    "**Pandas (Python)**: Utilizado para manipulação de dados em tabelas (DataFrames). Permite leitura, limpeza, transformação e análise de grandes conjuntos de dados de forma eficiente.\n",
    "\n",
    "**NumPy (Python)**: Usado para cálculos numéricos e manipulação de arrays. É a base para muitas outras bibliotecas em Python."
   ]
  },
  {
   "cell_type": "markdown",
   "metadata": {},
   "source": [
    "### Ferramentas de Visualização"
   ]
  },
  {
   "cell_type": "markdown",
   "metadata": {},
   "source": [
    "**Matplotlib (Python)**: Ferramenta básica para criar gráficos em Python, como gráficos de linha, barras, dispersão, histogramas, entre outros.\n",
    "\n",
    "**Seaborn (Python)**: Construído sobre o Matplotlib, oferece uma interface mais fácil para criar visualizações estatísticas.\n",
    "\n",
    "**power BI**: Ferramenta poderosa de visualização de dados que permite criar dashboards interativos e gráficos sofisticados sem necessidade de codificação."
   ]
  },
  {
   "cell_type": "markdown",
   "metadata": {},
   "source": [
    "### Ferramentas de Banco de Dados"
   ]
  },
  {
   "cell_type": "markdown",
   "metadata": {},
   "source": [
    "**SQL**: Linguagem padrão para gerenciar e consultar bancos de dados relacionais. Essencial para extrair dados armazenados em bancos de dados como MySQL, PostgreSQL, e SQL Server.\n",
    "\n",
    "**NoSQL (MongoDB, Cassandra)**: Bancos de dados NoSQL são usados para trabalhar com grandes volumes de dados não estruturados, como JSON ou XML."
   ]
  },
  {
   "cell_type": "markdown",
   "metadata": {},
   "source": [
    "### Ferramentas de Aprendizado de Máquina"
   ]
  },
  {
   "cell_type": "markdown",
   "metadata": {},
   "source": [
    "**Scikit-learn (Python)**: Biblioteca para machine learning que inclui uma ampla gama de algoritmos para classificação, regressão, clustering, e mais. É ideal para criar e treinar modelos de aprendizado de máquina.\n",
    "\n",
    "**TensorFlow e Keras (Python)**: Usados para construir e treinar redes neurais e modelos complexos de deep learning.\n",
    "\n",
    "**PyTorch (Python)**: Similar ao TensorFlow, muito utilizado em pesquisas acadêmicas e para construir redes neurais."
   ]
  },
  {
   "cell_type": "markdown",
   "metadata": {},
   "source": [
    "## Kaggle\n",
    "\n",
    " Kaggle é uma plataforma essencial para qualquer pessoa interessada em ciência de dados. Ela oferece um ambiente para praticar, aprender, competir e colaborar em projetos de ciência de dados. Seja você um iniciante querendo aprender ou um profissional experiente procurando desafios, Kaggle tem algo para todos.\n",
    "\n",
    "[Kaggle](https://www.kaggle.com/)"
   ]
  },
  {
   "cell_type": "markdown",
   "metadata": {},
   "source": [
    "## Series\n",
    "\n",
    " Uma Series é uma estrutura de dados unidimensional em Pandas, semelhante a uma lista ou coluna em uma tabela. Cada elemento em uma Series tem um índice, que por padrão é um número inteiro começando de 0, mas pode ser definido pelo usuário."
   ]
  },
  {
   "cell_type": "raw",
   "metadata": {
    "vscode": {
     "languageId": "raw"
    }
   },
   "source": [
    "Índice  | Valor\n",
    "----------------\n",
    "0       | 7.5\n",
    "1       | 8.0\n",
    "2       | 9.0\n",
    "3       | 6.5"
   ]
  },
  {
   "cell_type": "markdown",
   "metadata": {},
   "source": [
    " Imagine que você tem apenas uma coluna dessa planilha, com uma lista de números, nomes, ou qualquer outra informação. Essa única coluna é uma Série. É como uma lista organizada, onde cada elemento tem uma posição (um índice) e um valor associado. Por exemplo, se você tem uma lista de notas de alunos, cada nota seria um valor na série, e a posição de cada nota seria o índice."
   ]
  },
  {
   "cell_type": "markdown",
   "metadata": {},
   "source": [
    "### DataFrame\n",
    "\n",
    "Um DataFrame é uma estrutura de dados bidimensional em Pandas, que pode ser vista como uma tabela em Excel ou um banco de dados, onde cada coluna é uma Series. Um DataFrame é composto por linhas e colunas, cada uma com um nome (ou índice)."
   ]
  },
  {
   "cell_type": "raw",
   "metadata": {
    "vscode": {
     "languageId": "raw"
    }
   },
   "source": [
    "Índice  | Nome    | Nota  | Idade\n",
    "---------------------------------\n",
    "0       | João    | 7.5   | 15\n",
    "1       | Maria   | 8.0   | 16\n",
    "2       | Pedro   | 9.0   | 14\n",
    "3       | Ana     | 6.5   | 15"
   ]
  },
  {
   "cell_type": "markdown",
   "metadata": {},
   "source": [
    "Agora, imagine que essa planilha tem várias colunas, não apenas uma. Cada coluna pode ter um tipo diferente de dado (por exemplo, uma coluna com os nomes dos alunos e outra com as notas deles). Esse conjunto completo, com várias colunas e várias linhas, é um DataFrame. É como uma tabela, onde você pode armazenar e organizar muitos tipos de dados.\n",
    "\n"
   ]
  },
  {
   "cell_type": "markdown",
   "metadata": {},
   "source": [
    "## Pandas\n",
    "\n",
    "Pandas é uma biblioteca de Python amplamente usada para manipulação e análise de dados. Ela oferece estruturas de dados eficientes e ferramentas para trabalhar com dados de forma fácil e poderosa."
   ]
  },
  {
   "cell_type": "markdown",
   "metadata": {},
   "source": [
    "### Principais Funcionalidades\n",
    "\n",
    "Carregar dados de diferentes formatos (CSV, Excel, SQL, etc.).\n",
    "\n",
    "Limpar e preparar dados para análise.\n",
    "\n",
    "Agregar e sumarizar dados.\n",
    "\n",
    "Realizar operações complexas em grandes conjuntos de dados.\n"
   ]
  },
  {
   "cell_type": "code",
   "execution_count": 1,
   "metadata": {},
   "outputs": [
    {
     "data": {
      "text/plain": [
       "0    10\n",
       "1    20\n",
       "2    30\n",
       "3    40\n",
       "dtype: int64"
      ]
     },
     "execution_count": 1,
     "metadata": {},
     "output_type": "execute_result"
    }
   ],
   "source": [
    "import pandas as pd\n",
    "\n",
    "# Criando uma Series\n",
    "series = pd.Series([10, 20, 30, 40])\n",
    "\n",
    "series"
   ]
  },
  {
   "cell_type": "code",
   "execution_count": 2,
   "metadata": {},
   "outputs": [
    {
     "data": {
      "text/html": [
       "<div>\n",
       "<style scoped>\n",
       "    .dataframe tbody tr th:only-of-type {\n",
       "        vertical-align: middle;\n",
       "    }\n",
       "\n",
       "    .dataframe tbody tr th {\n",
       "        vertical-align: top;\n",
       "    }\n",
       "\n",
       "    .dataframe thead th {\n",
       "        text-align: right;\n",
       "    }\n",
       "</style>\n",
       "<table border=\"1\" class=\"dataframe\">\n",
       "  <thead>\n",
       "    <tr style=\"text-align: right;\">\n",
       "      <th></th>\n",
       "      <th>Nome</th>\n",
       "      <th>Idade</th>\n",
       "      <th>Cidade</th>\n",
       "    </tr>\n",
       "  </thead>\n",
       "  <tbody>\n",
       "    <tr>\n",
       "      <th>0</th>\n",
       "      <td>Alice</td>\n",
       "      <td>25</td>\n",
       "      <td>São Paulo</td>\n",
       "    </tr>\n",
       "    <tr>\n",
       "      <th>1</th>\n",
       "      <td>Bob</td>\n",
       "      <td>30</td>\n",
       "      <td>Rio de Janeiro</td>\n",
       "    </tr>\n",
       "    <tr>\n",
       "      <th>2</th>\n",
       "      <td>Charlie</td>\n",
       "      <td>35</td>\n",
       "      <td>Belo Horizonte</td>\n",
       "    </tr>\n",
       "  </tbody>\n",
       "</table>\n",
       "</div>"
      ],
      "text/plain": [
       "      Nome  Idade          Cidade\n",
       "0    Alice     25       São Paulo\n",
       "1      Bob     30  Rio de Janeiro\n",
       "2  Charlie     35  Belo Horizonte"
      ]
     },
     "execution_count": 2,
     "metadata": {},
     "output_type": "execute_result"
    }
   ],
   "source": [
    "import pandas as pd\n",
    "\n",
    "# Criando um DataFrame\n",
    "data = {\n",
    "    'Nome': ['Alice', 'Bob', 'Charlie'],\n",
    "    'Idade': [25, 30, 35],\n",
    "    'Cidade': ['São Paulo', 'Rio de Janeiro', 'Belo Horizonte']\n",
    "}\n",
    "df = pd.DataFrame(data)\n",
    "\n",
    "df"
   ]
  },
  {
   "cell_type": "markdown",
   "metadata": {},
   "source": [
    "### Metodos Do Pandas"
   ]
  },
  {
   "cell_type": "code",
   "execution_count": 3,
   "metadata": {},
   "outputs": [
    {
     
     ]
    }
   ],
   "source": [
    "# df = pd.read_csv('nomeDoArquivo.csv')  # Carregar dados de um arquivo CSV"
   ]
  },
  {
   "cell_type": "code",
   "execution_count": null,
   "metadata": {},
   "outputs": [],
   "source": [
    "print(df.head())  # Exibe as primeiras 5 linhas do DataFrame"
   ]
  }
 ],
 "metadata": {
  "kernelspec": {
   "display_name": "Python 3",
   "language": "python",
   "name": "python3"
  },
  "language_info": {
   "codemirror_mode": {
    "name": "ipython",
    "version": 3
   },
   "file_extension": ".py",
   "mimetype": "text/x-python",
   "name": "python",
   "nbconvert_exporter": "python",
   "pygments_lexer": "ipython3",
   "version": "3.12.2"
  }
 },
 "nbformat": 4,
 "nbformat_minor": 2
}
