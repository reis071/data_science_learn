{
 "cells": [
  {
   "cell_type": "markdown",
   "metadata": {},
   "source": [
    "# Numpy e Pandas"
   ]
  },
  {
   "cell_type": "markdown",
   "metadata": {},
   "source": [
    "## **Numpy**"
   ]
  },
  {
   "cell_type": "markdown",
   "metadata": {},
   "source": [
    "### O Que é Numpy?"
   ]
  },
  {
   "cell_type": "markdown",
   "metadata": {},
   "source": [
    "O NumPy é uma biblioteca do Python usada principalmente para trabalhar com arrays (listas de números) de forma eficiente. Pense nele como uma ferramenta que te ajuda a lidar com grandes quantidades de dados numéricos de maneira rápida e organizada.<br>\n",
    "Aqui estão alguns pontos importantes sobre o NumPy:\n",
    "\n",
    "**Arrays Multidimensionais**: A principal estrutura do NumPy é o array, que pode ser pensado como uma lista de listas (ou uma tabela de dados). Por exemplo, você pode ter um array de 2D que se parece com uma planilha, com linhas e colunas.\n",
    "\n",
    "**Operações Rápidas**: Com o NumPy, você pode realizar operações matemáticas em grandes conjuntos de dados muito mais rápido do que usando listas normais do Python. Isso porque ele é otimizado para esse tipo de tarefa.\n",
    "\n",
    "**Funções Matemáticas**: O NumPy tem várias funções matemáticas prontas para uso, como somar todos os números de um array, encontrar a média, ou multiplicar matrizes.\n",
    "\n",
    "\n",
    "Em resumo, o NumPy é como uma calculadora super eficiente para trabalhar com muitos números ao mesmo tempo no Python.<br><br>\n",
    "![NUMPY](https://encrypted-tbn0.gstatic.com/images?q=tbn:ANd9GcSMrTWz33b86nfIrgaW9jE_t-7VCcqJtjL-pg&s)"
   ]
  },
  {
   "cell_type": "markdown",
   "metadata": {},
   "source": [
    "### O Que é o Array Do Numpy?"
   ]
  },
  {
   "cell_type": "markdown",
   "metadata": {},
   "source": [
    "Um array do NumPy é como uma \"super lista\" usada para armazenar e manipular grandes quantidades de dados numéricos de forma eficiente. Vamos imaginar que você tem uma caixa de ovos, onde cada compartimento é um espaço para armazenar um número. Agora, imagine que essa caixa pode ter várias dimensões: uma linha única (como uma lista simples), várias linhas e colunas (como uma planilha), ou até mais dimensões.<br>\n",
    "\n",
    "Aqui está uma explicação passo a passo:<br>\n",
    "\n",
    "**Estrutura**: Um array é uma estrutura que pode armazenar múltiplos valores, todos do mesmo tipo (por exemplo, todos inteiros ou todos números decimais). Isso é diferente de uma lista do Python, que pode armazenar diferentes tipos de dados.<br>\n",
    "\n",
    "**Dimensões**: Arrays podem ter uma dimensão (vetor), duas dimensões (matriz, como uma tabela com linhas e colunas), ou mais. Por exemplo:<br>\n",
    "\n",
    "Um array de 1D pode ser algo como [1, 2, 3].<br>\n",
    "Um array de 2D pode ser algo como [[1, 2, 3], [4, 5, 6]].<br>\n",
    "\n",
    "\n",
    "**Operações Vetorizadas**: Você pode realizar operações em todos os elementos do array de uma só vez, sem precisar de laços (loops). Por exemplo, se você tem um array a = [1, 2, 3] e multiplica por 2 (a * 2), o NumPy vai transformar isso automaticamente em [2, 4, 6].\n",
    "\n",
    "**Exemplo Visual**: Imagine uma planilha do Excel onde você tem números em várias células. Um array do NumPy é como essa planilha, mas com a capacidade de realizar cálculos em todas as células de uma vez, de forma super rápida e eficiente.<br>\n",
    "\n",
    "Em resumo, um array do NumPy é uma ferramenta poderosa para trabalhar com dados numéricos organizados em várias dimensões, permitindo que você manipule esses dados de forma rápida e eficiente."
   ]
  },
  {
   "cell_type": "markdown",
   "metadata": {},
   "source": [
    "#### Hands ON\n",
    "agora conheceremos metodos do Numpy e situações que podemos fazer do uso."
   ]
  },
  {
   "cell_type": "code",
   "execution_count": 2,
   "metadata": {},
   "outputs": [],
   "source": [
    "import numpy as np"
   ]
  },
  {
   "cell_type": "code",
   "execution_count": 3,
   "metadata": {},
   "outputs": [
    {
     "name": "stdout",
     "output_type": "stream",
     "text": [
      "[1 2 3]\n",
      "[[1 2 3]\n",
      " [4 5 6]]\n"
     ]
    }
   ],
   "source": [
    "# numpy.array()\n",
    "'''\n",
    "O que faz: Cria um array NumPy a partir de uma lista ou lista de listas.\n",
    "\n",
    "Motivo para utilizar: Transforma listas comuns do Python em arrays do NumPy, que são mais \n",
    "eficientes para cálculos matemáticos e operações científicas.\n",
    "'''\n",
    "\n",
    "# Array 1D\n",
    "arr1 = np.array( [1, 2, 3] )\n",
    "print( arr1 )\n",
    "\n",
    "# Array 2D\n",
    "arr2 = np.array( [ [1, 2, 3] , [4, 5, 6] ] )\n",
    "print( arr2 )"
   ]
  },
  {
   "cell_type": "code",
   "execution_count": 4,
   "metadata": {},
   "outputs": [
    {
     "name": "stdout",
     "output_type": "stream",
     "text": [
      "[0. 0. 0. 0. 0.]\n",
      "[[0. 0. 0.]\n",
      " [0. 0. 0.]]\n"
     ]
    }
   ],
   "source": [
    "# numpy.zeros()\n",
    "'''\n",
    "O que faz: Cria um array preenchido com zeros.\n",
    "\n",
    "Motivo para utilizar: Útil para inicializar arrays vazios com um valor padrão, \n",
    "como zeros, especialmente ao preparar estruturas de dados para cálculos.\n",
    "'''\n",
    "\n",
    "# Array 1D de zeros\n",
    "zeros1 = np.zeros(5)\n",
    "print(zeros1)  \n",
    "\n",
    "# Array 2D de zeros\n",
    "zeros2 = np.zeros((2, 3))\n",
    "print(zeros2)  \n"
   ]
  },
  {
   "cell_type": "code",
   "execution_count": 5,
   "metadata": {},
   "outputs": [
    {
     "name": "stdout",
     "output_type": "stream",
     "text": [
      "[0 1 2 3 4 5 6 7 8 9]\n",
      "[2 4 6 8]\n"
     ]
    }
   ],
   "source": [
    "#numpy.arange()\n",
    "'''\n",
    "O que faz: Cria um array contendo uma sequência de números.\n",
    "\n",
    "Motivo para utilizar: Ideal para gerar sequências de números, \n",
    "semelhante à função range() do Python, mas retorna um array NumPy.\n",
    "'''\n",
    "\n",
    "# Array de 0 a 9\n",
    "arr = np.arange(10)\n",
    "print(arr)  \n",
    "\n",
    "# Array de 2 a 8 com passo de 2\n",
    "arr_step = np.arange(2, 10, 2)\n",
    "print(arr_step)  "
   ]
  },
  {
   "cell_type": "code",
   "execution_count": 6,
   "metadata": {},
   "outputs": [
    {
     "name": "stdout",
     "output_type": "stream",
     "text": [
      "[0.   0.25 0.5  0.75 1.  ]\n"
     ]
    }
   ],
   "source": [
    "# numpy.linspace()\n",
    "'''\n",
    "O que faz: Gera um array de números igualmente espaçados entre dois valores.\n",
    "\n",
    "Motivo para utilizar: Excelente para criar distribuições de dados, especialmente em gráficos, onde você precisa de pontos igualmente espaçados.\n",
    "python\n",
    "'''\n",
    "\n",
    "# 5 números igualmente espaçados entre 0 e 1\n",
    "arr_lin = np.linspace(0, 1, 5)\n",
    "print(arr_lin)  "
   ]
  },
  {
   "cell_type": "code",
   "execution_count": 7,
   "metadata": {},
   "outputs": [
    {
     "name": "stdout",
     "output_type": "stream",
     "text": [
      "[0 1 2 3 4 5]\n",
      "[[0 1 2]\n",
      " [3 4 5]]\n"
     ]
    }
   ],
   "source": [
    "# numpy.reshape()\n",
    "'''\n",
    "O que faz: Altera a forma (dimensões) de um array sem alterar os dados.\n",
    "\n",
    "Motivo para utilizar: Útil para reorganizar dados, como transformar um \n",
    "array 1D em uma matriz 2D ou 3D.\n",
    "'''\n",
    "\n",
    "arr = np.arange(6)\n",
    "print(arr)  #\n",
    "\n",
    "# Redimensionar para um array 2D (2x3)\n",
    "arr_reshaped = arr.reshape((2, 3))\n",
    "print(arr_reshaped) \n"
   ]
  },
  {
   "cell_type": "code",
   "execution_count": 8,
   "metadata": {},
   "outputs": [
    {
     "name": "stdout",
     "output_type": "stream",
     "text": [
      "21\n",
      "[ 6 15]\n"
     ]
    }
   ],
   "source": [
    "# numpy.sum()\n",
    "'''\n",
    "O que faz: Calcula a soma de todos os elementos do array ou ao longo de um eixo específico.\n",
    "Motivo para utilizar: Útil para calcular rapidamente a soma total de elementos, \n",
    "como somar valores em uma tabela.\n",
    "'''\n",
    "\n",
    "arr = np.array([[1, 2, 3], [4, 5, 6]])\n",
    "\n",
    "# Soma de todos os elementos\n",
    "total_sum = np.sum(arr)\n",
    "print(total_sum)  # Saída: 21\n",
    "\n",
    "# Soma ao longo das linhas\n",
    "sum_rows = np.sum(arr, axis=1)\n",
    "print(sum_rows)  "
   ]
  },
  {
   "cell_type": "code",
   "execution_count": 9,
   "metadata": {},
   "outputs": [
    {
     "name": "stdout",
     "output_type": "stream",
     "text": [
      "3.0\n"
     ]
    }
   ],
   "source": [
    "# numpy.mean()\n",
    "\n",
    "'''\n",
    "O que faz: Calcula a média dos elementos do array.\n",
    "\n",
    "Motivo para utilizar: Essencial para calcular a média de \n",
    "um conjunto de dados, uma medida comum de tendência central.\n",
    "'''\n",
    "arr = np.array([1, 2, 3, 4, 5])\n",
    "\n",
    "# Média de todos os elementos\n",
    "mean = np.mean(arr)\n",
    "print(mean) "
   ]
  },
  {
   "cell_type": "markdown",
   "metadata": {},
   "source": [
    "## **Pandas**"
   ]
  },
  {
   "cell_type": "markdown",
   "metadata": {},
   "source": [
    "### Iloc e Loc"
   ]
  },
  {
   "cell_type": "markdown",
   "metadata": {},
   "source": [
    "iloc e loc são métodos utilizados para acessar dados em DataFrames e Series do Pandas."
   ]
  },
  {
   "cell_type": "markdown",
   "metadata": {},
   "source": [
    "#### iloc"
   ]
  },
  {
   "cell_type": "markdown",
   "metadata": {},
   "source": [
    "O que é: O método iloc permite acessar elementos de um DataFrame ou Series utilizando índices numéricos (baseados na posição).\n",
    "\n",
    "Motivo para utilizar: É ideal quando você deseja acessar dados com base em sua posição relativa no DataFrame ou Series, independentemente dos rótulos dos índices."
   ]
  },
  {
   "cell_type": "code",
   "execution_count": 10,
   "metadata": {},
   "outputs": [],
   "source": [
    "import pandas as pd\n",
    "\n",
    "# Criando um DataFrame de exemplo\n",
    "data = {'Nome': ['Ana', 'Bruno', 'Carlos'], 'Idade': [23, 35, 45], 'Cidade': ['SP', 'RJ', 'BH']}\n",
    "df = pd.DataFrame(data, index=['a', 'b', 'c'])"
   ]
  },
  {
   "cell_type": "code",
   "execution_count": 11,
   "metadata": {},
   "outputs": [
    {
     "name": "stdout",
     "output_type": "stream",
     "text": [
      "Nome      Ana\n",
      "Idade      23\n",
      "Cidade     SP\n",
      "Name: a, dtype: object\n",
      "23\n",
      "    Nome  Idade\n",
      "a    Ana     23\n",
      "b  Bruno     35\n"
     ]
    }
   ],
   "source": [
    "# Acessando uma linha pela posição\n",
    "print(df.iloc[0])  \n",
    "\n",
    "# Acessando uma célula específica (primeira linha e segunda coluna)\n",
    "print(df.iloc[0, 1]) \n",
    "\n",
    "# Acessando múltiplas linhas e colunas pela posição\n",
    "print(df.iloc[0:2, 0:2]) "
   ]
  },
  {
   "cell_type": "markdown",
   "metadata": {},
   "source": [
    "#### loc"
   ]
  },
  {
   "cell_type": "markdown",
   "metadata": {},
   "source": [
    "O que é: O método loc permite acessar elementos de um DataFrame ou Series utilizando rótulos (nomes) de linhas e colunas.\n",
    "\n",
    "Motivo para utilizar: É útil quando você deseja acessar dados baseados nos nomes de índices ou colunas, tornando o código mais legível e menos propenso a erros, especialmente quando o índice não é numérico."
   ]
  },
  {
   "cell_type": "code",
   "execution_count": 12,
   "metadata": {},
   "outputs": [
    {
     "name": "stdout",
     "output_type": "stream",
     "text": [
      "Nome      Ana\n",
      "Idade      23\n",
      "Cidade     SP\n",
      "Name: a, dtype: object\n",
      "RJ\n",
      "    Nome Cidade\n",
      "a    Ana     SP\n",
      "b  Bruno     RJ\n"
     ]
    }
   ],
   "source": [
    "# Acessando uma linha pelo rótulo\n",
    "print(df.loc['a'])  \n",
    "\n",
    "# Acessando uma célula específica (linha 'b' e coluna 'Cidade')\n",
    "print(df.loc['b', 'Cidade'])  # Saída: RJ\n",
    "\n",
    "# Acessando múltiplas linhas e colunas\n",
    "print(df.loc[['a', 'b'], ['Nome', 'Cidade']])"
   ]
  },
  {
   "cell_type": "markdown",
   "metadata": {},
   "source": [
    "##### Operadores Logicos"
   ]
  },
  {
   "cell_type": "markdown",
   "metadata": {},
   "source": [
    "\n",
    "Os operadores lógicos em conjunto com os métodos loc e iloc permitem realizar filtragens mais complexas e condições específicas ao selecionar dados em um DataFrame ou Series do Pandas. Esses operadores podem ser usados para aplicar condições que devem ser atendidas pelos dados, permitindo a extração de subconjuntos específicos.\n"
   ]
  },
  {
   "cell_type": "markdown",
   "metadata": {},
   "source": [
    "**& (E lógico)**: Retorna True se ambas as condições forem verdadeiras.<br>\n",
    "\n",
    "**| (OU lógico)**: Retorna True se pelo menos uma das condições for verdadeira.<br>\n",
    "\n",
    "**~ (NÃO lógico)**: Inverte a condição, retornando True para False e vice-versa."
   ]
  },
  {
   "cell_type": "code",
   "execution_count": 13,
   "metadata": {},
   "outputs": [
    {
     "name": "stdout",
     "output_type": "stream",
     "text": [
      "    Nome  Idade Cidade\n",
      "1  Bruno     35     RJ\n"
     ]
    }
   ],
   "source": [
    "'''Suponha que você tenha um DataFrame com informações sobre pessoas,\n",
    "e deseja filtrar as pessoas com mais de 30 anos que moram em \"RJ\":'''\n",
    "\n",
    "\n",
    "# Criando um DataFrame de exemplo\n",
    "data = {'Nome': ['Ana', 'Bruno', 'Carlos', 'Daniela'],\n",
    "        'Idade': [23, 35, 45, 30],\n",
    "        'Cidade': ['SP', 'RJ', 'BH', 'RJ']}\n",
    "df = pd.DataFrame(data)\n",
    "\n",
    "# Filtrando pessoas com mais de 30 anos que moram no RJ\n",
    "filtro = df.loc[(df['Idade'] > 30) & (df['Cidade'] == 'RJ')]\n",
    "print(filtro)"
   ]
  },
  {
   "cell_type": "markdown",
   "metadata": {},
   "source": [
    "Como iloc é baseado em posições, ele não trabalha diretamente com operadores lógicos sobre os dados. No entanto, você pode primeiro aplicar os operadores lógicos para filtrar linhas ou colunas e, em seguida, usar iloc para selecionar por posição."
   ]
  },
  {
   "cell_type": "code",
   "execution_count": null,
   "metadata": {},
   "outputs": [],
   "source": [
    "# Filtrando por idade maior que 30\n",
    "filtro = df[df['Idade'] > 30]\n",
    "\n",
    "# Selecionando as duas primeiras linhas que atendem à condição\n",
    "result = filtro.iloc[:2]\n",
    "print(result)"
   ]
  },
  {
   "cell_type": "markdown",
   "metadata": {},
   "source": [
    "##### Por que utilizar loc e iloc?<br>"
   ]
  },
  {
   "cell_type": "markdown",
   "metadata": {},
   "source": [
    "\n",
    "**loc**: Use quando precisar trabalhar com rótulos de índice, tornando o código mais intuitivo e legível. É especialmente útil em DataFrames onde os índices são strings ou datas, e não números inteiros.<br>\n",
    "\n",
    "**iloc**: Use quando trabalhar com posições numéricas, permitindo acesso baseado em índices zero-based (iniciando do zero). É útil para operações que dependem de posições específicas, como quando você deseja iterar ou realizar operações em subconjuntos de dados baseados na posição.<br>\n",
    "\n",
    "Ambos os métodos oferecem flexibilidade e precisão na manipulação de dados em DataFrames e Series, tornando-os ferramentas essenciais no trabalho com Pandas."
   ]
  }
 ],
 "metadata": {
  "kernelspec": {
   "display_name": "Python 3",
   "language": "python",
   "name": "python3"
  },
  "language_info": {
   "codemirror_mode": {
    "name": "ipython",
    "version": 3
   },
   "file_extension": ".py",
   "mimetype": "text/x-python",
   "name": "python",
   "nbconvert_exporter": "python",
   "pygments_lexer": "ipython3",
   "version": "3.12.2"
  }
 },
 "nbformat": 4,
 "nbformat_minor": 2
}
